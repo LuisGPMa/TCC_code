{
 "cells": [
  {
   "cell_type": "code",
   "execution_count": 1,
   "metadata": {},
   "outputs": [],
   "source": [
    "import requests\n",
    "import pandas as pd\n",
    "from datetime import datetime, date\n",
    "from tqdm import tqdm\n",
    "import os"
   ]
  },
  {
   "cell_type": "code",
   "execution_count": 2,
   "metadata": {},
   "outputs": [],
   "source": [
    "def convert_to_binance_timestamp(dt):\n",
    "    # Convert datetime object to timestamp in milliseconds\n",
    "    timestamp_ms = int(dt.timestamp() * 1000)\n",
    "    return timestamp_ms"
   ]
  },
  {
   "cell_type": "code",
   "execution_count": 3,
   "metadata": {},
   "outputs": [],
   "source": [
    "def create_directory(directory):\n",
    "    if not os.path.exists(directory):\n",
    "        os.makedirs(directory)"
   ]
  },
  {
   "cell_type": "code",
   "execution_count": 4,
   "metadata": {},
   "outputs": [],
   "source": [
    "def get_binance_historical_data(symbol, interval, startTime, endTime=None, limit=1000):\n",
    "    base_url = \"https://api.binance.com/api/v3/klines\"\n",
    "\n",
    "    # Parameters for the API request\n",
    "    params = {\n",
    "        'symbol': symbol,       # Trading pair, e.g., 'BTCUSDT'\n",
    "        'interval': interval,   # Kline interval, e.g., '1h' for 1 hour\n",
    "        'startTime': startTime, \n",
    "        'endTime': endTime,\n",
    "        'limit': limit          # Number of data points to retrieve\n",
    "    }\n",
    "\n",
    "    # Make the API request\n",
    "    response = requests.get(base_url, params=params)\n",
    "    data = response.json()\n",
    "\n",
    "    # Extracting relevant data\n",
    "    df = pd.DataFrame(data, columns=['timestamp_ms', 'open', 'high', 'low', 'close', 'volume', 'close_time', 'quote_asset_volume', 'number_of_trades', 'taker_buy_base_asset_volume', 'taker_buy_quote_asset_volume', 'ignore'])\n",
    "\n",
    "    # Convert timestamps to human-readable date format\n",
    "    df['timestamp'] = pd.to_datetime(df['timestamp_ms'], unit='ms')\n",
    "    return df"
   ]
  },
  {
   "cell_type": "code",
   "execution_count": 6,
   "metadata": {},
   "outputs": [],
   "source": [
    "def make_historical_data_csv(interval:str, symbol:str='BTCUSDT', datetime_start=datetime(2023,1,1), datetime_end=datetime(2024,3,7)):\n",
    "    historical_data_df = pd.DataFrame(columns=['timestamp_ms', 'open', 'high', 'low', 'close', 'volume', 'close_time', 'quote_asset_volume', 'number_of_trades', 'taker_buy_base_asset_volume', 'taker_buy_quote_asset_volume', 'ignore', 'timestamp'])\n",
    "        \n",
    "    startTime = convert_to_binance_timestamp(datetime_start)\n",
    "    endTime = convert_to_binance_timestamp(datetime_end)\n",
    "    \n",
    "    new_rows = get_binance_historical_data(symbol, interval, startTime, endTime)\n",
    "    historical_data_df = pd.concat([historical_data_df,new_rows], ignore_index=True)\n",
    "    # historical_data_df = historical_data_df.append(new_rows, ignore_index=True)\n",
    "    \n",
    "    last_time = historical_data_df.loc[historical_data_df.shape[0]-1,'timestamp_ms']\n",
    "    ms_diff = last_time - historical_data_df.loc[historical_data_df.shape[0]-2,'timestamp_ms']\n",
    "    \n",
    "    while pd.to_datetime(last_time, unit='ms') < datetime_end:\n",
    "        new_start_time =  last_time + ms_diff\n",
    "        new_rows = get_binance_historical_data(symbol, interval, new_start_time)\n",
    "        historical_data_df = pd.concat([historical_data_df,new_rows], ignore_index=True)\n",
    "        # historical_data_df = historical_data_df.append(new_rows, ignore_index=True)\n",
    "        last_time = historical_data_df.loc[historical_data_df.shape[0]-1,'timestamp_ms']\n",
    "        \n",
    "    condition = historical_data_df['timestamp'] <= datetime_end\n",
    "    historical_data_df = historical_data_df[condition]\n",
    "    periodo = f\"{datetime_start.year}.{datetime_start.month}.{datetime_start.day}_{datetime_end.year}.{datetime_end.month}.{datetime_end.day}\"\n",
    "    new_dir = rf'./data/binance/{periodo}' + '//'\n",
    "    create_directory(new_dir)\n",
    "    historical_data_df.to_csv(rf'{new_dir}{symbol}_{interval}_{periodo}.csv', index=False)\n",
    "    return historical_data_df"
   ]
  },
  {
   "cell_type": "code",
   "execution_count": 7,
   "metadata": {},
   "outputs": [
    {
     "name": "stderr",
     "output_type": "stream",
     "text": [
      "100%|██████████| 3/3 [00:22<00:00,  7.40s/it]\n"
     ]
    }
   ],
   "source": [
    "# intervals = ['1d', '12h', '6h', '1h', '30m', '15m']\n",
    "intervals = ['1d', '12h', '1h']\n",
    "dt_start = datetime(2021,5,1)\n",
    "dt_end = datetime(2024,6,23)\n",
    "for interval in tqdm(intervals):\n",
    "    make_historical_data_csv(interval, symbol='BTCUSDT', datetime_start=dt_start, datetime_end=dt_end)"
   ]
  }
 ],
 "metadata": {
  "kernelspec": {
   "display_name": "base",
   "language": "python",
   "name": "python3"
  },
  "language_info": {
   "codemirror_mode": {
    "name": "ipython",
    "version": 3
   },
   "file_extension": ".py",
   "mimetype": "text/x-python",
   "name": "python",
   "nbconvert_exporter": "python",
   "pygments_lexer": "ipython3",
   "version": "3.9.19"
  }
 },
 "nbformat": 4,
 "nbformat_minor": 2
}
